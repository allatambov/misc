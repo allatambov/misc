{
 "cells": [
  {
   "cell_type": "markdown",
   "metadata": {},
   "source": [
    "# Биномиальное распределение: практикум в Python\n",
    "\n",
    "*Алла Тамбовцева*"
   ]
  },
  {
   "cell_type": "markdown",
   "metadata": {},
   "source": [
    "## Биномиальное распределение"
   ]
  },
  {
   "cell_type": "markdown",
   "metadata": {},
   "source": [
    "### Факториал"
   ]
  },
  {
   "cell_type": "markdown",
   "metadata": {},
   "source": [
    "Импортируем функцию для вычисления факториала из модуля `math`:"
   ]
  },
  {
   "cell_type": "code",
   "execution_count": 1,
   "metadata": {},
   "outputs": [],
   "source": [
    "from math import factorial"
   ]
  },
  {
   "cell_type": "markdown",
   "metadata": {},
   "source": [
    "Посчитаем $n!$ для разных $n$:"
   ]
  },
  {
   "cell_type": "code",
   "execution_count": 2,
   "metadata": {},
   "outputs": [],
   "source": [
    "factorial(4) # 4!"
   ]
  },
  {
   "cell_type": "code",
   "execution_count": 3,
   "metadata": {},
   "outputs": [],
   "source": [
    "factorial(6) # 6!"
   ]
  },
  {
   "cell_type": "code",
   "execution_count": 4,
   "metadata": {},
   "outputs": [],
   "source": [
    "factorial(100) # 100!"
   ]
  },
  {
   "cell_type": "markdown",
   "metadata": {},
   "source": [
    "### Биномиальные коэффициенты"
   ]
  },
  {
   "cell_type": "markdown",
   "metadata": {},
   "source": [
    "Для вычисления биномиального коэффициента $C_n^k$ нам потребуется модуль `special` из библиотеки для научных вычислений `scipy` (сокращение от  *SCIentific PYthon*). Импортируем его:"
   ]
  },
  {
   "cell_type": "code",
   "execution_count": 5,
   "metadata": {},
   "outputs": [],
   "source": [
    "import scipy.special as sp"
   ]
  },
  {
   "cell_type": "markdown",
   "metadata": {},
   "source": [
    "Теперь воспользуемся функцией `binom`, которая позволит посчитать нам биномиальный коэффициент. Для примера посчитаем биномиальный коэффициент $C_4^2$:"
   ]
  },
  {
   "cell_type": "code",
   "execution_count": 6,
   "metadata": {},
   "outputs": [
    {
     "data": {
      "text/plain": [
       "6.0"
      ]
     },
     "execution_count": 6,
     "metadata": {},
     "output_type": "execute_result"
    }
   ],
   "source": [
    "sp.binom(4, 2) # сначала указывается n, потом k"
   ]
  },
  {
   "cell_type": "markdown",
   "metadata": {},
   "source": [
    "### Биномиальное распределение и биномиальные вероятности"
   ]
  },
  {
   "cell_type": "markdown",
   "metadata": {},
   "source": [
    "Для создания биномиальной случайной величины и вычисления вероятностей ее значений нам понадобится модуль `stats` из той же библиотеки `scipy`. Импортируем его:"
   ]
  },
  {
   "cell_type": "code",
   "execution_count": 7,
   "metadata": {},
   "outputs": [],
   "source": [
    "import scipy.stats as st"
   ]
  },
  {
   "cell_type": "markdown",
   "metadata": {},
   "source": [
    "Создадим случайную величину $X$, имеющую биномиальное распределение с параметрами $n=10$, $p=0.5$, то есть величину, которая описывает число успехов в серии из $10$ испытаний Бернулли, где вероятность успеха в одном испытании равна $0.5$."
   ]
  },
  {
   "cell_type": "code",
   "execution_count": 8,
   "metadata": {},
   "outputs": [],
   "source": [
    "X = st.binom(n=10, p=0.5)"
   ]
  },
  {
   "cell_type": "markdown",
   "metadata": {},
   "source": [
    "Теперь давайте построим ряд распределения этой случайной величины: соотнесем значения величины и их вероятности. Ясно, что значениями этой случайной величины являются целые числа от 0 до 10 включительно (число успехов в 10 испытаниях). Реализуем такой цикл: для каждого значения $k$ от 0 до 10 включительно будем считать вероятность $P(X=k)$ с помощью метода `.pmf()`."
   ]
  },
  {
   "cell_type": "code",
   "execution_count": 9,
   "metadata": {},
   "outputs": [
    {
     "name": "stdout",
     "output_type": "stream",
     "text": [
      "0 0.0009765625\n",
      "1 0.00976562500000001\n",
      "2 0.04394531249999999\n",
      "3 0.11718750000000014\n",
      "4 0.20507812500000022\n",
      "5 0.24609375000000025\n",
      "6 0.20507812500000022\n",
      "7 0.11718750000000014\n",
      "8 0.04394531249999999\n",
      "9 0.00976562500000001\n",
      "10 0.0009765625\n"
     ]
    }
   ],
   "source": [
    "for k in range(0, 11):  # все целые числа от 0 до 10\n",
    "    print(k, X.pmf(k))"
   ]
  },
  {
   "cell_type": "markdown",
   "metadata": {},
   "source": [
    "Можем найти математическое ожидание и дисперсию этой случайной величины (о них поговорим позже):"
   ]
  },
  {
   "cell_type": "code",
   "execution_count": 10,
   "metadata": {},
   "outputs": [
    {
     "data": {
      "text/plain": [
       "5.000000000000005"
      ]
     },
     "execution_count": 10,
     "metadata": {},
     "output_type": "execute_result"
    }
   ],
   "source": [
    "X.expect() # E(X), expected value"
   ]
  },
  {
   "cell_type": "code",
   "execution_count": 11,
   "metadata": {},
   "outputs": [
    {
     "data": {
      "text/plain": [
       "2.5"
      ]
     },
     "execution_count": 11,
     "metadata": {},
     "output_type": "execute_result"
    }
   ],
   "source": [
    "X.var() # D(X)=Var(X), variance"
   ]
  },
  {
   "cell_type": "markdown",
   "metadata": {},
   "source": [
    "Теперь мы можем решить какую-нибудь задачу."
   ]
  },
  {
   "cell_type": "markdown",
   "metadata": {},
   "source": [
    "**Задача**\n",
    "\n",
    "Известно, что $70$% студентов очной формы обучения совмещают обучение\n",
    "с работой. Для проведения интервью мы случайным образом выбираем $10$ студентов.\n",
    "\n",
    "a. Какова вероятность того, что среди выбранных респондентов будет ровно $4$ работающих студента? \n",
    "\n",
    "b. Какова вероятность того, что среди выбранных респондентов будет не менее $8$\n",
    "работающих студентов?"
   ]
  },
  {
   "cell_type": "markdown",
   "metadata": {},
   "source": [
    "Одно испытание Бернулли – опрос одного студента. Успех – студент совмещает работу и учебу, неудача – не совмещает. $p=0.7$ и $q=0.3$. Раз опрашиваем $10$ студентов, имеем серию из $n=10$ испытаний Бернулли. Сгенерируем величину $X$, которая имеет биномиальное распределение с параметрами $n=10$, $p=0.7$."
   ]
  },
  {
   "cell_type": "code",
   "execution_count": 12,
   "metadata": {},
   "outputs": [],
   "source": [
    "x = st.binom(n=10, p=0.7)"
   ]
  },
  {
   "cell_type": "markdown",
   "metadata": {},
   "source": [
    "a. $P(X = 4)$"
   ]
  },
  {
   "cell_type": "code",
   "execution_count": 13,
   "metadata": {},
   "outputs": [
    {
     "data": {
      "text/plain": [
       "0.03675690900000004"
      ]
     },
     "execution_count": 13,
     "metadata": {},
     "output_type": "execute_result"
    }
   ],
   "source": [
    "x.pmf(4)  # pmf - от probability mass function"
   ]
  },
  {
   "cell_type": "markdown",
   "metadata": {},
   "source": [
    "b. $P(X \\geq 8) = P(X=8) + P(X=9) + P(X=10)$"
   ]
  },
  {
   "cell_type": "code",
   "execution_count": 14,
   "metadata": {},
   "outputs": [
    {
     "data": {
      "text/plain": [
       "0.3827827863999999"
      ]
     },
     "execution_count": 14,
     "metadata": {},
     "output_type": "execute_result"
    }
   ],
   "source": [
    "x.pmf(8) + x.pmf(9) + x.pmf(10)"
   ]
  },
  {
   "cell_type": "markdown",
   "metadata": {},
   "source": [
    "### Немного визуализации\n",
    "\n"
   ]
  },
  {
   "cell_type": "markdown",
   "metadata": {},
   "source": [
    "Вероятности, посчитанные для значений биномиальной случайной величины, часто изображают на графике. Импортируем библиотеку `matplotlib`, а именно ее модуль `pyplot`, и заодно библиотеку `numpy`:"
   ]
  },
  {
   "cell_type": "code",
   "execution_count": 15,
   "metadata": {},
   "outputs": [],
   "source": [
    "import matplotlib.pyplot as plt\n",
    "import numpy as np"
   ]
  },
  {
   "cell_type": "code",
   "execution_count": 16,
   "metadata": {},
   "outputs": [],
   "source": [
    "%matplotlib inline\n",
    "# чтобы графики были прямо в файле"
   ]
  },
  {
   "cell_type": "markdown",
   "metadata": {},
   "source": [
    "Зафикисируем параметры биномиальной случайной величины и посчитаем вероятности значений:"
   ]
  },
  {
   "cell_type": "code",
   "execution_count": 17,
   "metadata": {},
   "outputs": [],
   "source": [
    "n, p = 10, 0.7 # параметры биномиального распределения"
   ]
  },
  {
   "cell_type": "code",
   "execution_count": 18,
   "metadata": {},
   "outputs": [
    {
     "data": {
      "text/plain": [
       "array([ 0,  1,  2,  3,  4,  5,  6,  7,  8,  9, 10])"
      ]
     },
     "execution_count": 18,
     "metadata": {},
     "output_type": "execute_result"
    }
   ],
   "source": [
    "x = np.arange(0, n+1) # все значения СВ - целые от 0 до n включительно\n",
    "x"
   ]
  },
  {
   "cell_type": "code",
   "execution_count": 19,
   "metadata": {},
   "outputs": [],
   "source": [
    "prob = st.binom.pmf(x, n, p) # вероятности"
   ]
  },
  {
   "cell_type": "markdown",
   "metadata": {},
   "source": [
    "Построим график:\n",
    "\n",
    "* `vlines` – вертикальные линии\n",
    "* `x` – значения СВ\n",
    "* `prob` – вероятности значений СВ\n",
    "* `colors` – цвета\n",
    "* `lw` – ширина линий (line width)\n",
    "* `alpha` – прозрачность"
   ]
  },
  {
   "cell_type": "code",
   "execution_count": 21,
   "metadata": {},
   "outputs": [
    {
     "data": {
      "text/plain": [
       "<matplotlib.collections.LineCollection at 0x11516a438>"
      ]
     },
     "execution_count": 21,
     "metadata": {},
     "output_type": "execute_result"
    },
    {
     "data": {
      "image/png": "[encoded data removed]",
      "text/plain": [
       "<Figure size 432x288 with 1 Axes>"
      ]
     },
     "metadata": {},
     "output_type": "display_data"
    }
   ],
   "source": [
    "plt.vlines(x, 0, prob, colors='green', lw=5, alpha=0.5)"
   ]
  },
  {
   "cell_type": "markdown",
   "metadata": {},
   "source": [
    "Так как вероятность успеха достаточно высокая (0.7), видно, что ситуации, когда мы получаем 0-3 успеха, маловероятны. Давайте теперь посмотрим на симметричное распределение, где $p=q=0.5$. "
   ]
  },
  {
   "cell_type": "code",
   "execution_count": 22,
   "metadata": {},
   "outputs": [
    {
     "data": {
      "text/plain": [
       "<matplotlib.collections.LineCollection at 0x11524ecf8>"
      ]
     },
     "execution_count": 22,
     "metadata": {},
     "output_type": "execute_result"
    },
    {
     "data": {
      "image/png": "[encoded data removed]",
      "text/plain": [
       "<Figure size 432x288 with 1 Axes>"
      ]
     },
     "metadata": {},
     "output_type": "display_data"
    }
   ],
   "source": [
    "n, p = 10, 0.5\n",
    "x = np.arange(0, n+1)\n",
    "plt.vlines(x, 0, st.binom.pmf(x, n, p), colors='blue', lw=5, alpha=0.5)"
   ]
  },
  {
   "cell_type": "markdown",
   "metadata": {},
   "source": [
    "Видно, что теперь график симметричен относительно среднего ожидаемого значения 5. Это логично: если вероятности успеха и неудачи одинаковы, то получить 4 успеха в 10 испытаниях – это то же самое, что получить 4 неудачи в 10 испытаниях, а 4 неудачи из 10 – это 6 успехов из 10. Поэтому $P(X=4) = P(X=6)$. Или, в общем случае, если $p=q=0.5$, то $P(X=k)=P(X=n-k).$"
   ]
  },
  {
   "cell_type": "markdown",
   "metadata": {},
   "source": [
    "Теперь построим другой график – *многоугольник распределения*. Это график, по горизонтальной оси которого идут значения случайной величины в порядке возрастания, а по вертикальной – их вероятности, причем точки на графике соединены друг с другом. Построим многоугольник распределения для биномиальной случайной величины $X$ с $n=10$, $p=0.5$:"
   ]
  },
  {
   "cell_type": "code",
   "execution_count": 23,
   "metadata": {},
   "outputs": [
    {
     "data": {
      "text/plain": [
       "[<matplotlib.lines.Line2D at 0x1153116a0>]"
      ]
     },
     "execution_count": 23,
     "metadata": {},
     "output_type": "execute_result"
    },
    {
     "data": {
      "image/png": "[encoded data removed]",
      "text/plain": [
       "<Figure size 432x288 with 1 Axes>"
      ]
     },
     "metadata": {},
     "output_type": "display_data"
    }
   ],
   "source": [
    "n, p = 10, 0.5\n",
    "x = np.arange(0, n+1)\n",
    "prob = st.binom.pmf(x, n, p)\n",
    "plt.plot(x, prob, '--bo')"
   ]
  },
  {
   "cell_type": "markdown",
   "metadata": {},
   "source": [
    "Многоугольник распределения можно построить для любой дискретной случайной величины, не только биномиальной. Достаточно иметь перед глазами ряд распределения – соответствие между значениями СВ и их вероятностями."
   ]
  },
  {
   "cell_type": "code",
   "execution_count": 24,
   "metadata": {},
   "outputs": [
    {
     "data": {
      "text/plain": [
       "[<matplotlib.lines.Line2D at 0x115367a58>]"
      ]
     },
     "execution_count": 24,
     "metadata": {},
     "output_type": "execute_result"
    },
    {
     "data": {
      "image/png": "[encoded data removed]",
      "text/plain": [
       "<Figure size 432x288 with 1 Axes>"
      ]
     },
     "metadata": {},
     "output_type": "display_data"
    }
   ],
   "source": [
    "y = np.array([-1, 2, 4, 6, 9])  # значения Х\n",
    "yp = np.array([0.1, 0.25, 0.15, 0.3, 0.2])  # вероятности X\n",
    "plt.plot(y, yp, '--bo', color='r')"
   ]
  }
 ],
 "metadata": {
  "kernelspec": {
   "display_name": "Python 3",
   "language": "python",
   "name": "python3"
  },
  "language_info": {
   "codemirror_mode": {
    "name": "ipython",
    "version": 3
   },
   "file_extension": ".py",
   "mimetype": "text/x-python",
   "name": "python",
   "nbconvert_exporter": "python",
   "pygments_lexer": "ipython3",
   "version": "3.6.5"
  }
 },
 "nbformat": 4,
 "nbformat_minor": 2
}
