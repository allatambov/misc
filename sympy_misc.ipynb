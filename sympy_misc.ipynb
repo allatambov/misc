{
 "cells": [
  {
   "cell_type": "markdown",
   "metadata": {},
   "source": [
    "Импортируем все функции из `sympy`:"
   ]
  },
  {
   "cell_type": "code",
   "execution_count": 1,
   "metadata": {},
   "outputs": [],
   "source": [
    "from sympy import *"
   ]
  },
  {
   "cell_type": "markdown",
   "metadata": {},
   "source": [
    "\"Настроим\" печать, чтобы при выводе на экран выводились сами символы, а не слова, их означающие:"
   ]
  },
  {
   "cell_type": "code",
   "execution_count": 2,
   "metadata": {
    "collapsed": true
   },
   "outputs": [],
   "source": [
    "init_printing()"
   ]
  },
  {
   "cell_type": "markdown",
   "metadata": {},
   "source": [
    "Создадим символ для $\\lambda$ (\"lamda\") и сохраним его в переменную `lam`. Теперь Python будет относиться к нему, как к переменной, как к неизвестной."
   ]
  },
  {
   "cell_type": "code",
   "execution_count": 3,
   "metadata": {
    "collapsed": true
   },
   "outputs": [],
   "source": [
    "lam = symbols('lamda')"
   ]
  },
  {
   "cell_type": "markdown",
   "metadata": {},
   "source": [
    "Проверим. Создадим матрицу $M$\n",
    "\n",
    "$$ M = \n",
    "\\left(\\begin{array}{cc} \n",
    "3-\\lambda & 3\\\\\n",
    "3 & 3-\\lambda\n",
    "\\end{array}\\right)$$"
   ]
  },
  {
   "cell_type": "code",
   "execution_count": 4,
   "metadata": {},
   "outputs": [
    {
     "data": {
      "image/png": "[encoded data removed]",
      "text/latex": [
       "$$\\left[\\begin{matrix}- \\lambda + 3 & 3\\\\3 & - \\lambda + 3\\end{matrix}\\right]$$"
      ],
      "text/plain": [
       "⎡-λ + 3    3   ⎤\n",
       "⎢              ⎥\n",
       "⎣  3     -λ + 3⎦"
      ]
     },
     "execution_count": 4,
     "metadata": {},
     "output_type": "execute_result"
    }
   ],
   "source": [
    "M = Matrix([[3 - lam, 3], [3,  3 - lam]]) # lam, не lamda (имя переменной)\n",
    "M"
   ]
  },
  {
   "cell_type": "markdown",
   "metadata": {},
   "source": [
    "Посчитаем определитель:"
   ]
  },
  {
   "cell_type": "code",
   "execution_count": 5,
   "metadata": {},
   "outputs": [
    {
     "data": {
      "image/png": "[encoded data removed]",
      "text/latex": [
       "$$\\left(- \\lambda + 3\\right)^{2} - 9$$"
      ],
      "text/plain": [
       "        2    \n",
       "(-λ + 3)  - 9"
      ]
     },
     "execution_count": 5,
     "metadata": {},
     "output_type": "execute_result"
    }
   ],
   "source": [
    "M.det()"
   ]
  },
  {
   "cell_type": "markdown",
   "metadata": {},
   "source": [
    "Найдем, при каких значениях $\\lambda$ определитель равен нулю:"
   ]
  },
  {
   "cell_type": "code",
   "execution_count": 6,
   "metadata": {},
   "outputs": [
    {
     "data": {
      "image/png": "[encoded data removed]",
      "text/latex": [
       "$$\\left [ 0, \\quad 6\\right ]$$"
      ],
      "text/plain": [
       "[0, 6]"
      ]
     },
     "execution_count": 6,
     "metadata": {},
     "output_type": "execute_result"
    }
   ],
   "source": [
    "solve(M.det(), lam)"
   ]
  },
  {
   "cell_type": "markdown",
   "metadata": {},
   "source": [
    "Посмотрим, как выглядит обратная матрица для $M$ ($\\lambda$ считается за переменную):"
   ]
  },
  {
   "cell_type": "code",
   "execution_count": 7,
   "metadata": {},
   "outputs": [
    {
     "data": {
      "image/png": "[encoded data removed]",
      "text/latex": [
       "$$\\left[\\begin{matrix}\\frac{3 \\lambda - 9}{- 3 \\left(- \\lambda + 3\\right)^{2} + 27} & \\frac{- \\left(- \\lambda + 3\\right)^{2} - \\left(- \\lambda + 3\\right) \\left(\\lambda - 3\\right) + 9}{- 3 \\left(- \\lambda + 3\\right)^{2} + 27}\\\\\\frac{3}{- \\left(- \\lambda + 3\\right)^{2} + 9} & \\frac{\\lambda - 3}{- \\left(- \\lambda + 3\\right)^{2} + 9}\\end{matrix}\\right]$$"
      ],
      "text/plain": [
       "⎡                              2                       ⎤\n",
       "⎢     3⋅λ - 9        - (-λ + 3)  - (-λ + 3)⋅(λ - 3) + 9⎥\n",
       "⎢──────────────────  ──────────────────────────────────⎥\n",
       "⎢            2                           2             ⎥\n",
       "⎢- 3⋅(-λ + 3)  + 27          - 3⋅(-λ + 3)  + 27        ⎥\n",
       "⎢                                                      ⎥\n",
       "⎢        3                         λ - 3               ⎥\n",
       "⎢ ───────────────             ───────────────          ⎥\n",
       "⎢           2                           2              ⎥\n",
       "⎣ - (-λ + 3)  + 9             - (-λ + 3)  + 9          ⎦"
      ]
     },
     "execution_count": 7,
     "metadata": {},
     "output_type": "execute_result"
    }
   ],
   "source": [
    "M.inv()"
   ]
  },
  {
   "cell_type": "markdown",
   "metadata": {},
   "source": [
    "Поподставляем вместо $\\lambda$ какие-то значения:"
   ]
  },
  {
   "cell_type": "code",
   "execution_count": 8,
   "metadata": {},
   "outputs": [
    {
     "data": {
      "image/png": "[encoded data removed]",
      "text/latex": [
       "$$\\left[\\begin{matrix}\\tilde{\\infty} & \\tilde{\\infty}\\\\\\tilde{\\infty} & \\tilde{\\infty}\\end{matrix}\\right]$$"
      ],
      "text/plain": [
       "⎡zoo  zoo⎤\n",
       "⎢        ⎥\n",
       "⎣zoo  zoo⎦"
      ]
     },
     "execution_count": 8,
     "metadata": {},
     "output_type": "execute_result"
    }
   ],
   "source": [
    "M_inv = M.inv()\n",
    "M_inv.subs({lam: 6}) # лямбда равна 6"
   ]
  },
  {
   "cell_type": "code",
   "execution_count": 9,
   "metadata": {},
   "outputs": [
    {
     "data": {
      "image/png": "[encoded data removed]",
      "text/latex": [
       "$$\\left[\\begin{matrix}- \\frac{1}{8} & - \\frac{1}{24}\\\\- \\frac{1}{24} & - \\frac{1}{8}\\end{matrix}\\right]$$"
      ],
      "text/plain": [
       "⎡-1/8   -1/24⎤\n",
       "⎢            ⎥\n",
       "⎣-1/24  -1/8 ⎦"
      ]
     },
     "execution_count": 9,
     "metadata": {},
     "output_type": "execute_result"
    }
   ],
   "source": [
    "M_inv.subs({lam: 12}) # лямбда равна 12"
   ]
  },
  {
   "cell_type": "markdown",
   "metadata": {},
   "source": [
    "Создадим матрицу R\n",
    "\n",
    "$$ R = \n",
    "\\left(\\begin{array}{cc} \n",
    "a & b\\\\\n",
    "c & d\n",
    "\\end{array}\\right)$$"
   ]
  },
  {
   "cell_type": "code",
   "execution_count": 10,
   "metadata": {},
   "outputs": [
    {
     "data": {
      "image/png": "[encoded data removed]",
      "text/latex": [
       "$$\\left[\\begin{matrix}a & b\\\\c & d\\end{matrix}\\right]$$"
      ],
      "text/plain": [
       "⎡a  b⎤\n",
       "⎢    ⎥\n",
       "⎣c  d⎦"
      ]
     },
     "execution_count": 10,
     "metadata": {},
     "output_type": "execute_result"
    }
   ],
   "source": [
    "a, b, c, d, lamda = symbols('a, b, c, d, lamda')\n",
    "R = Matrix([[a, b], [c, d]])\n",
    "R"
   ]
  },
  {
   "cell_type": "markdown",
   "metadata": {},
   "source": [
    "Вычтем из главной диагонали $\\lambda$:"
   ]
  },
  {
   "cell_type": "code",
   "execution_count": 11,
   "metadata": {},
   "outputs": [
    {
     "data": {
      "image/png": "[encoded data removed]",
      "text/latex": [
       "$$\\left[\\begin{matrix}a - \\lambda & b\\\\c & d - \\lambda\\end{matrix}\\right]$$"
      ],
      "text/plain": [
       "⎡a - λ    b  ⎤\n",
       "⎢            ⎥\n",
       "⎣  c    d - λ⎦"
      ]
     },
     "execution_count": 11,
     "metadata": {},
     "output_type": "execute_result"
    }
   ],
   "source": [
    "L = R - lam * eye(2) # eye - единичная матрица\n",
    "L"
   ]
  },
  {
   "cell_type": "markdown",
   "metadata": {},
   "source": [
    "Подставим вместо букв определенные значения:"
   ]
  },
  {
   "cell_type": "code",
   "execution_count": 12,
   "metadata": {},
   "outputs": [
    {
     "data": {
      "image/png": "[encoded data removed]",
      "text/latex": [
       "$$\\left[\\begin{matrix}- \\lambda + 1 & 3\\\\4 & - \\lambda + 5\\end{matrix}\\right]$$"
      ],
      "text/plain": [
       "⎡-λ + 1    3   ⎤\n",
       "⎢              ⎥\n",
       "⎣  4     -λ + 5⎦"
      ]
     },
     "execution_count": 12,
     "metadata": {},
     "output_type": "execute_result"
    }
   ],
   "source": [
    "L = L.subs({a: 1, b: 3, c: 4, d: 5})\n",
    "L"
   ]
  },
  {
   "cell_type": "markdown",
   "metadata": {},
   "source": [
    "Дальше можем работать с матрицей L как угодно."
   ]
  },
  {
   "cell_type": "code",
   "execution_count": 14,
   "metadata": {},
   "outputs": [
    {
     "data": {
      "image/png": "[encoded data removed]",
      "text/latex": [
       "$$\\left [ -1, \\quad 7\\right ]$$"
      ],
      "text/plain": [
       "[-1, 7]"
      ]
     },
     "execution_count": 14,
     "metadata": {},
     "output_type": "execute_result"
    }
   ],
   "source": [
    "solve(L.det())"
   ]
  },
  {
   "cell_type": "code",
   "execution_count": 15,
   "metadata": {},
   "outputs": [
    {
     "data": {
      "image/png": "[encoded data removed]",
      "text/latex": [
       "$$\\left[\\begin{matrix}2 a_{1} + 3 a_{2}\\\\4 a_{1} + 6 a_{2}\\end{matrix}\\right]$$"
      ],
      "text/plain": [
       "⎡2⋅a₁ + 3⋅a₂⎤\n",
       "⎢           ⎥\n",
       "⎣4⋅a₁ + 6⋅a₂⎦"
      ]
     },
     "execution_count": 15,
     "metadata": {},
     "output_type": "execute_result"
    }
   ],
   "source": [
    "a1, a2 = symbols('a1, a2') # введем новые символы\n",
    "\n",
    "L.subs({lam : -1}) * Matrix([a1, a2]) # подставим lam = -1 и домножим на вектор (a1, a2)"
   ]
  },
  {
   "cell_type": "code",
   "execution_count": 16,
   "metadata": {},
   "outputs": [
    {
     "data": {
      "image/png": "[encoded data removed]",
      "text/latex": [
       "$$\\left \\{ a_{1} : - \\frac{3 a_{2}}{2}\\right \\}$$"
      ],
      "text/plain": [
       "⎧    -3⋅a₂ ⎫\n",
       "⎨a₁: ──────⎬\n",
       "⎩      2   ⎭"
      ]
     },
     "execution_count": 16,
     "metadata": {},
     "output_type": "execute_result"
    }
   ],
   "source": [
    "solve(L.subs({lam : -1}) * Matrix([a1, a2]), a1, a2) # приравняем к нулю и решим относительно a1 и a2 "
   ]
  },
  {
   "cell_type": "code",
   "execution_count": null,
   "metadata": {
    "collapsed": true
   },
   "outputs": [],
   "source": []
  }
 ],
 "metadata": {
  "kernelspec": {
   "display_name": "Python 3",
   "language": "python",
   "name": "python3"
  },
  "language_info": {
   "codemirror_mode": {
    "name": "ipython",
    "version": 3
   },
   "file_extension": ".py",
   "mimetype": "text/x-python",
   "name": "python",
   "nbconvert_exporter": "python",
   "pygments_lexer": "ipython3",
   "version": "3.5.1+"
  }
 },
 "nbformat": 4,
 "nbformat_minor": 2
}
